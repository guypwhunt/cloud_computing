{
 "cells": [
  {
   "cell_type": "code",
   "execution_count": 1,
   "metadata": {},
   "outputs": [],
   "source": [
    "from flask import Flask, jsonify, request, render_template\n",
    "import requests\n",
    "import requests_cache\n",
    "import pyodbc \n",
    "import pandas as pd\n",
    "import json\n",
    "import collections\n",
    "#import jwt"
   ]
  },
  {
   "cell_type": "code",
   "execution_count": 2,
   "metadata": {},
   "outputs": [],
   "source": [
    "conn = pyodbc.connect('Driver={SQL Server};'\n",
    "                      'Server=localhost\\MSSQLSERVER01;'\n",
    "                      'Database=index;'\n",
    "                      'Trusted_Connection=yes;')"
   ]
  },
  {
   "cell_type": "code",
   "execution_count": 3,
   "metadata": {},
   "outputs": [
    {
     "name": "stdout",
     "output_type": "stream",
     "text": [
      "INSERT INTO [dbo].[index_data] ([pk_index_id], [index_name], [index_symbol]) VALUES (5, 'TEST', 'TXT')\n"
     ]
    }
   ],
   "source": [
    "cursor = conn.cursor()\n",
    "\n",
    "# Define input variables\n",
    "pk_index_id = 5\n",
    "index_name = \"TEST\"\n",
    "index_symbol = \"TXT\"\n",
    "pk_index_id = str(pk_index_id)\n",
    "\n",
    "# Create the appropriate SQL script\n",
    "script = 'INSERT INTO [dbo].[index_data] ([pk_index_id], [index_name], [index_symbol]) VALUES (' + pk_index_id + ', \\'' + index_name + '\\', \\'' + index_symbol + '\\')'\n",
    "\n",
    "print(script)\n",
    "\n",
    "# Execute the SQL statement\n",
    "cursor.execute(script)\n",
    "conn.close()"
   ]
  },
  {
   "cell_type": "code",
   "execution_count": 4,
   "metadata": {},
   "outputs": [
    {
     "name": "stdout",
     "output_type": "stream",
     "text": [
      "{'2020-11-19': {'1. open': '25.0600', '2. high': '25.0600', '3. low': '25.0600', '4. close': '25.0600', '5. volume': '15277'}, '2020-11-18': {'1. open': '25.0650', '2. high': '25.0670', '3. low': '25.0600', '4. close': '25.0600', '5. volume': '5861'}, '2020-11-17': {'1. open': '25.0600', '2. high': '25.0650', '3. low': '25.0600', '4. close': '25.0600', '5. volume': '1402'}, '2020-11-16': {'1. open': '25.0600', '2. high': '25.0654', '3. low': '25.0600', '4. close': '25.0600', '5. volume': '7792'}, '2020-11-13': {'1. open': '25.0600', '2. high': '25.0601', '3. low': '25.0600', '4. close': '25.0600', '5. volume': '7819'}, '2020-11-12': {'1. open': '25.0600', '2. high': '25.0700', '3. low': '25.0600', '4. close': '25.0700', '5. volume': '22696'}, '2020-11-11': {'1. open': '25.0600', '2. high': '25.0600', '3. low': '25.0555', '4. close': '25.0555', '5. volume': '800'}, '2020-11-10': {'1. open': '25.0500', '2. high': '25.0600', '3. low': '25.0500', '4. close': '25.0500', '5. volume': '11562'}, '2020-11-09': {'1. open': '25.0500', '2. high': '25.0600', '3. low': '25.0500', '4. close': '25.0500', '5. volume': '8124'}, '2020-11-06': {'1. open': '25.0600', '2. high': '25.0600', '3. low': '25.0500', '4. close': '25.0500', '5. volume': '490'}, '2020-11-05': {'1. open': '25.0400', '2. high': '25.0535', '3. low': '25.0400', '4. close': '25.0400', '5. volume': '4157'}, '2020-11-04': {'1. open': '25.0400', '2. high': '25.0447', '3. low': '25.0400', '4. close': '25.0400', '5. volume': '5420'}, '2020-11-03': {'1. open': '25.0500', '2. high': '25.0551', '3. low': '25.0500', '4. close': '25.0500', '5. volume': '4355'}, '2020-11-02': {'1. open': '25.0700', '2. high': '25.0750', '3. low': '25.0500', '4. close': '25.0500', '5. volume': '7813'}, '2020-10-30': {'1. open': '25.0500', '2. high': '25.0600', '3. low': '25.0400', '4. close': '25.0400', '5. volume': '22661'}, '2020-10-29': {'1. open': '25.0400', '2. high': '25.0500', '3. low': '25.0300', '4. close': '25.0400', '5. volume': '33792'}, '2020-10-28': {'1. open': '25.0500', '2. high': '25.0500', '3. low': '25.0400', '4. close': '25.0400', '5. volume': '142177'}, '2020-10-27': {'1. open': '25.0400', '2. high': '25.0500', '3. low': '25.0300', '4. close': '25.0400', '5. volume': '9749'}, '2020-10-26': {'1. open': '25.0400', '2. high': '25.0500', '3. low': '25.0300', '4. close': '25.0300', '5. volume': '30300'}, '2020-10-23': {'1. open': '25.0200', '2. high': '25.0400', '3. low': '25.0200', '4. close': '25.0300', '5. volume': '61673'}, '2020-10-22': {'1. open': '25.0300', '2. high': '25.0300', '3. low': '25.0200', '4. close': '25.0200', '5. volume': '80393'}, '2020-10-21': {'1. open': '25.0100', '2. high': '25.0400', '3. low': '24.9600', '4. close': '25.0400', '5. volume': '85535'}, '2020-10-20': {'1. open': '24.8625', '2. high': '24.8625', '3. low': '24.8100', '4. close': '24.8500', '5. volume': '1192'}, '2020-10-19': {'1. open': '24.8000', '2. high': '24.8891', '3. low': '24.7900', '4. close': '24.8550', '5. volume': '3467'}, '2020-10-16': {'1. open': '24.8200', '2. high': '24.9000', '3. low': '24.7950', '4. close': '24.8100', '5. volume': '5035'}, '2020-10-15': {'1. open': '24.8200', '2. high': '24.8900', '3. low': '24.8000', '4. close': '24.8550', '5. volume': '5912'}, '2020-10-14': {'1. open': '24.8900', '2. high': '24.9000', '3. low': '24.7500', '4. close': '24.8400', '5. volume': '3586'}, '2020-10-13': {'1. open': '25.1000', '2. high': '25.2500', '3. low': '25.1000', '4. close': '25.2500', '5. volume': '22268'}, '2020-10-12': {'1. open': '25.0200', '2. high': '25.2500', '3. low': '25.0200', '4. close': '25.1005', '5. volume': '18468'}, '2020-10-09': {'1. open': '24.9100', '2. high': '24.9200', '3. low': '24.8900', '4. close': '24.8900', '5. volume': '2108'}, '2020-10-08': {'1. open': '24.8900', '2. high': '24.9300', '3. low': '24.7900', '4. close': '24.9200', '5. volume': '2956'}, '2020-10-07': {'1. open': '24.8150', '2. high': '24.9400', '3. low': '24.8064', '4. close': '24.9400', '5. volume': '4356'}, '2020-10-06': {'1. open': '24.7000', '2. high': '24.9000', '3. low': '24.6600', '4. close': '24.8900', '5. volume': '18922'}, '2020-10-05': {'1. open': '24.7000', '2. high': '24.7000', '3. low': '24.6200', '4. close': '24.6800', '5. volume': '5033'}, '2020-10-02': {'1. open': '24.6100', '2. high': '24.7000', '3. low': '24.5700', '4. close': '24.6593', '5. volume': '4338'}, '2020-10-01': {'1. open': '24.6250', '2. high': '24.7400', '3. low': '24.5500', '4. close': '24.6700', '5. volume': '7193'}, '2020-09-30': {'1. open': '24.5300', '2. high': '24.6900', '3. low': '24.5300', '4. close': '24.6900', '5. volume': '5063'}, '2020-09-29': {'1. open': '24.6100', '2. high': '24.6700', '3. low': '24.6000', '4. close': '24.6300', '5. volume': '4178'}, '2020-09-28': {'1. open': '24.5000', '2. high': '24.6900', '3. low': '24.5000', '4. close': '24.6112', '5. volume': '7875'}, '2020-09-25': {'1. open': '24.6000', '2. high': '24.6000', '3. low': '24.4800', '4. close': '24.5450', '5. volume': '11347'}, '2020-09-24': {'1. open': '24.5100', '2. high': '24.5100', '3. low': '24.4600', '4. close': '24.4800', '5. volume': '24141'}, '2020-09-23': {'1. open': '24.5800', '2. high': '24.6000', '3. low': '24.5000', '4. close': '24.5000', '5. volume': '12731'}, '2020-09-22': {'1. open': '24.6000', '2. high': '24.6800', '3. low': '24.5300', '4. close': '24.5400', '5. volume': '13217'}, '2020-09-21': {'1. open': '24.5300', '2. high': '24.6100', '3. low': '24.4700', '4. close': '24.5500', '5. volume': '49457'}, '2020-09-18': {'1. open': '24.5500', '2. high': '24.5500', '3. low': '24.4100', '4. close': '24.4500', '5. volume': '18579'}, '2020-09-17': {'1. open': '24.3800', '2. high': '24.4000', '3. low': '24.3500', '4. close': '24.3999', '5. volume': '17642'}, '2020-09-16': {'1. open': '24.3000', '2. high': '24.5050', '3. low': '24.2800', '4. close': '24.3800', '5. volume': '37774'}, '2020-09-15': {'1. open': '24.4400', '2. high': '24.4400', '3. low': '24.2700', '4. close': '24.2920', '5. volume': '37289'}, '2020-09-14': {'1. open': '24.5200', '2. high': '24.7000', '3. low': '24.2963', '4. close': '24.3000', '5. volume': '206287'}, '2020-09-11': {'1. open': '24.2600', '2. high': '24.3000', '3. low': '24.2303', '4. close': '24.2499', '5. volume': '13950'}, '2020-09-10': {'1. open': '24.3500', '2. high': '24.3500', '3. low': '24.2700', '4. close': '24.3000', '5. volume': '29717'}, '2020-09-09': {'1. open': '24.4500', '2. high': '24.4500', '3. low': '24.2000', '4. close': '24.2995', '5. volume': '79864'}, '2020-09-08': {'1. open': '24.4000', '2. high': '24.4000', '3. low': '24.0600', '4. close': '24.2000', '5. volume': '29206'}, '2020-09-04': {'1. open': '24.0600', '2. high': '24.4000', '3. low': '24.0600', '4. close': '24.4000', '5. volume': '560'}, '2020-09-03': {'1. open': '24.4950', '2. high': '24.6000', '3. low': '24.4000', '4. close': '24.4000', '5. volume': '1691'}, '2020-09-02': {'1. open': '24.2000', '2. high': '24.3000', '3. low': '24.2000', '4. close': '24.2900', '5. volume': '5761'}, '2020-09-01': {'1. open': '24.1734', '2. high': '24.1970', '3. low': '24.1700', '4. close': '24.1970', '5. volume': '2015'}, '2020-08-31': {'1. open': '24.2500', '2. high': '24.3100', '3. low': '24.2500', '4. close': '24.3000', '5. volume': '3310'}, '2020-08-28': {'1. open': '24.1000', '2. high': '24.2500', '3. low': '24.1000', '4. close': '24.2500', '5. volume': '2779'}, '2020-08-27': {'1. open': '24.1900', '2. high': '24.2000', '3. low': '24.0200', '4. close': '24.1000', '5. volume': '2081'}, '2020-08-26': {'1. open': '24.1200', '2. high': '24.2500', '3. low': '24.0098', '4. close': '24.2500', '5. volume': '5812'}, '2020-08-25': {'1. open': '24.0000', '2. high': '24.1206', '3. low': '24.0000', '4. close': '24.1000', '5. volume': '1996'}, '2020-08-24': {'1. open': '24.1400', '2. high': '24.1400', '3. low': '24.0000', '4. close': '24.1400', '5. volume': '3308'}, '2020-08-21': {'1. open': '23.9750', '2. high': '24.1000', '3. low': '23.8331', '4. close': '24.1000', '5. volume': '2295'}, '2020-08-20': {'1. open': '24.0700', '2. high': '24.1600', '3. low': '23.5000', '4. close': '24.0412', '5. volume': '4260'}, '2020-08-19': {'1. open': '24.0000', '2. high': '24.2500', '3. low': '23.9200', '4. close': '24.2500', '5. volume': '6755'}, '2020-08-18': {'1. open': '24.4500', '2. high': '24.5100', '3. low': '22.5400', '4. close': '23.5500', '5. volume': '13704'}, '2020-08-17': {'1. open': '24.5300', '2. high': '24.5300', '3. low': '24.1000', '4. close': '24.1000', '5. volume': '1725'}, '2020-08-14': {'1. open': '24.4000', '2. high': '24.6500', '3. low': '24.4000', '4. close': '24.6500', '5. volume': '2281'}, '2020-08-13': {'1. open': '24.4900', '2. high': '24.6900', '3. low': '24.4100', '4. close': '24.4100', '5. volume': '1574'}, '2020-08-12': {'1. open': '24.4700', '2. high': '24.4700', '3. low': '24.2600', '4. close': '24.4500', '5. volume': '3660'}, '2020-08-11': {'1. open': '24.6500', '2. high': '24.6500', '3. low': '24.5100', '4. close': '24.5100', '5. volume': '2343'}, '2020-08-10': {'1. open': '24.4499', '2. high': '24.5000', '3. low': '24.4499', '4. close': '24.5000', '5. volume': '2055'}, '2020-08-07': {'1. open': '24.1600', '2. high': '24.2708', '3. low': '24.0000', '4. close': '24.2500', '5. volume': '5215'}, '2020-08-06': {'1. open': '24.1200', '2. high': '24.3630', '3. low': '24.1100', '4. close': '24.3300', '5. volume': '1003'}, '2020-08-05': {'1. open': '24.0100', '2. high': '24.1150', '3. low': '24.0100', '4. close': '24.0750', '5. volume': '2841'}, '2020-08-04': {'1. open': '24.4500', '2. high': '24.4500', '3. low': '23.8200', '4. close': '24.0100', '5. volume': '5487'}, '2020-08-03': {'1. open': '24.6900', '2. high': '24.6900', '3. low': '23.5500', '4. close': '23.8100', '5. volume': '4638'}, '2020-07-31': {'1. open': '23.8500', '2. high': '23.8500', '3. low': '23.8500', '4. close': '23.8500', '5. volume': '199'}, '2020-07-30': {'1. open': '23.8300', '2. high': '23.8500', '3. low': '23.7000', '4. close': '23.7500', '5. volume': '3252'}, '2020-07-29': {'1. open': '23.6400', '2. high': '23.8410', '3. low': '23.6000', '4. close': '23.8000', '5. volume': '6519'}, '2020-07-28': {'1. open': '23.6900', '2. high': '23.8800', '3. low': '23.6787', '4. close': '23.8500', '5. volume': '6144'}, '2020-07-27': {'1. open': '23.6300', '2. high': '23.7000', '3. low': '23.6300', '4. close': '23.7000', '5. volume': '2363'}, '2020-07-24': {'1. open': '23.6800', '2. high': '23.8500', '3. low': '23.6800', '4. close': '23.8500', '5. volume': '618'}, '2020-07-23': {'1. open': '23.8500', '2. high': '23.8500', '3. low': '23.5500', '4. close': '23.7700', '5. volume': '2584'}, '2020-07-22': {'1. open': '23.6700', '2. high': '23.8900', '3. low': '23.2100', '4. close': '23.8900', '5. volume': '3676'}, '2020-07-21': {'1. open': '23.4700', '2. high': '23.4700', '3. low': '23.3000', '4. close': '23.4000', '5. volume': '6727'}, '2020-07-20': {'1. open': '23.8900', '2. high': '23.8900', '3. low': '23.3200', '4. close': '23.4530', '5. volume': '5181'}, '2020-07-17': {'1. open': '23.6850', '2. high': '23.6950', '3. low': '23.5000', '4. close': '23.6310', '5. volume': '2322'}, '2020-07-16': {'1. open': '23.2500', '2. high': '23.4900', '3. low': '23.2500', '4. close': '23.4900', '5. volume': '715'}, '2020-07-15': {'1. open': '23.5020', '2. high': '23.7600', '3. low': '23.2100', '4. close': '23.4900', '5. volume': '5136'}, '2020-07-14': {'1. open': '23.4000', '2. high': '23.7500', '3. low': '23.3500', '4. close': '23.3500', '5. volume': '6148'}, '2020-07-13': {'1. open': '23.8900', '2. high': '23.8900', '3. low': '23.5600', '4. close': '23.6830', '5. volume': '8321'}, '2020-07-10': {'1. open': '23.5100', '2. high': '24.0000', '3. low': '23.5100', '4. close': '23.9000', '5. volume': '2597'}, '2020-07-09': {'1. open': '24.0400', '2. high': '24.1000', '3. low': '23.6500', '4. close': '23.6500', '5. volume': '6008'}, '2020-07-08': {'1. open': '23.5000', '2. high': '24.0500', '3. low': '23.5000', '4. close': '24.0500', '5. volume': '10991'}, '2020-07-07': {'1. open': '23.2000', '2. high': '23.6790', '3. low': '23.2000', '4. close': '23.5700', '5. volume': '16562'}, '2020-07-06': {'1. open': '23.0900', '2. high': '23.2550', '3. low': '23.0000', '4. close': '23.1500', '5. volume': '5400'}, '2020-07-02': {'1. open': '23.1800', '2. high': '23.1800', '3. low': '22.9600', '4. close': '23.0250', '5. volume': '15396'}, '2020-07-01': {'1. open': '23.3500', '2. high': '23.3500', '3. low': '23.0000', '4. close': '23.1000', '5. volume': '2276'}}\n"
     ]
    },
    {
     "data": {
      "text/plain": [
       "'2020-11-19'"
      ]
     },
     "execution_count": 4,
     "metadata": {},
     "output_type": "execute_result"
    }
   ],
   "source": [
    "x = json.loads(response.text)\n",
    "x = x[\"Time Series (Daily)\"]\n",
    "print(x)\n",
    "y = sorted(x.keys())[-1]\n",
    "y"
   ]
  },
  {
   "cell_type": "code",
   "execution_count": 1,
   "metadata": {},
   "outputs": [],
   "source": [
    "import requests\n",
    "import pyodbc \n",
    "import pandas as pd\n",
    "import json\n",
    "import collections"
   ]
  },
  {
   "cell_type": "code",
   "execution_count": 2,
   "metadata": {},
   "outputs": [],
   "source": [
    "conn = pyodbc.connect('Driver={SQL Server};'\n",
    "                      'Server=localhost\\MSSQLSERVER01;'\n",
    "                      'Database=index;'\n",
    "                      'Trusted_Connection=yes;')"
   ]
  },
  {
   "cell_type": "code",
   "execution_count": 6,
   "metadata": {},
   "outputs": [
    {
     "data": {
      "text/plain": [
       "'[{\"index_id\": 2, \"index_name\": \"FTSE 250\", \"index_symbol\": \"MCX\"}]'"
      ]
     },
     "execution_count": 6,
     "metadata": {},
     "output_type": "execute_result"
    }
   ],
   "source": [
    "cursor = conn.cursor()\n",
    "\n",
    "# Perform the select statement and extract the rows\n",
    "sql_script = f\"SELECT * FROM dbo.index_data WHERE index_symbol = '{symbol}'\"\n",
    "cursor.execute(sql_script)\n",
    "rows = cursor.fetchall()\n",
    "\n",
    "# For each row append the relevant data to an array\n",
    "rowarray_list = []\n",
    "for row in rows:\n",
    "    t = (row[0], row[1], row[2])\n",
    "    rowarray_list.append(t)\n",
    "\n",
    "# Convert the array into JSON\n",
    "j = json.dumps(rowarray_list)\n",
    "\n",
    "# Convert JSON to key-value pairs\n",
    "objects_list = []\n",
    "for row in rows:\n",
    "    d = collections.OrderedDict()\n",
    "    d[\"index_id\"] = row[0]\n",
    "    d[\"index_name\"] = row[1]\n",
    "    d[\"index_symbol\"] = row[2]\n",
    "    objects_list.append(d)\n",
    "        \n",
    "# Convert key-value pairs to JSON\n",
    "response = json.dumps(objects_list)\n",
    "response"
   ]
  },
  {
   "cell_type": "code",
   "execution_count": null,
   "metadata": {},
   "outputs": [],
   "source": []
  }
 ],
 "metadata": {
  "kernelspec": {
   "display_name": "Python 3",
   "language": "python",
   "name": "python3"
  },
  "language_info": {
   "codemirror_mode": {
    "name": "ipython",
    "version": 3
   },
   "file_extension": ".py",
   "mimetype": "text/x-python",
   "name": "python",
   "nbconvert_exporter": "python",
   "pygments_lexer": "ipython3",
   "version": "3.7.6"
  }
 },
 "nbformat": 4,
 "nbformat_minor": 4
}
