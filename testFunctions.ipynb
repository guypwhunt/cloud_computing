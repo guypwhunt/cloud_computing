{
 "cells": [
  {
   "cell_type": "code",
   "execution_count": 1,
   "metadata": {},
   "outputs": [],
   "source": [
    "import mysql.connector"
   ]
  },
  {
   "cell_type": "code",
   "execution_count": 3,
   "metadata": {},
   "outputs": [
    {
     "name": "stdout",
     "output_type": "stream",
     "text": [
      "(1, 'FTSE 100', 'UKX')\n",
      "(2, 'FTSE 250', 'MCX')\n",
      "(3, 'FTSE 350', 'NMX')\n"
     ]
    }
   ],
   "source": [
    "import mysql.connector\n",
    "\n",
    "mydb = mysql.connector.connect(\n",
    "  host=\"investment.cgwmqkwedlgo.us-east-1.rds.amazonaws.com\",\n",
    "  user=\"Rafayet\",\n",
    "  password=\"Cloud2021\",\n",
    "  database=\"Invest\"\n",
    ")\n",
    "\n",
    "mycursor = mydb.cursor()\n",
    "\n",
    "mycursor.execute(\"select * from index_data\")\n",
    "\n",
    "myresult = mycursor.fetchall()\n",
    "\n",
    "for x in myresult:\n",
    "  print(x)"
   ]
  },
  {
   "cell_type": "code",
   "execution_count": 6,
   "metadata": {},
   "outputs": [
    {
     "name": "stdout",
     "output_type": "stream",
     "text": [
      "False\n"
     ]
    }
   ],
   "source": [
    "# Perform the select statement and extract the rows for the index\n",
    "sql_script = 'SELECT * FROM index_data WHERE index_symbol = \\'' + 'NMX' + '\\''\n",
    "\n",
    "mycursor = mydb.cursor()\n",
    "\n",
    "mycursor.execute(sql_script)\n",
    "rows = mycursor.fetchall()\n",
    "\n",
    "print(rows == [])\n"
   ]
  },
  {
   "cell_type": "code",
   "execution_count": 30,
   "metadata": {},
   "outputs": [],
   "source": [
    "mycursor = mydb.cursor()\n",
    "        \n",
    "# Define input variables\n",
    "pk_index_id = 11\n",
    "index_name = \"TEST\"\n",
    "index_symbol = \"TEST\"\n",
    "pk_index_id = str(pk_index_id)\n",
    "\n",
    "# Create the appropriate SQL script\n",
    "script = 'INSERT INTO index_data (pk_index_id, index_name, index_symbol) VALUES (\\'' + pk_index_id + '\\', \\'' + index_name + '\\', \\'' + index_symbol + '\\')'\n",
    "\n",
    "\n",
    "# Execute the SQL statement\n",
    "mycursor.execute(script)"
   ]
  },
  {
   "cell_type": "code",
   "execution_count": 5,
   "metadata": {},
   "outputs": [
    {
     "name": "stdout",
     "output_type": "stream",
     "text": [
      "UPDATE index_data SET pk_index_id = '20', index_name = 'Test4' WHERE index_symbol = 'TEST'\n",
      "0 record(s) affected\n"
     ]
    }
   ],
   "source": [
    "mycursor = mydb.cursor()\n",
    "       \n",
    "# Define input variables\n",
    "index_symbol = \"TEST\"\n",
    "pk_index_id = 20\n",
    "index_name = \"Test4\"\n",
    "pk_index_id = str(pk_index_id)\n",
    "\n",
    "# Create the appropriate SQL script\n",
    "script = 'UPDATE index_data SET pk_index_id = \\''+ pk_index_id + '\\', index_name = \\'' + index_name + '\\' WHERE index_symbol = \\'' + index_symbol + '\\''\n",
    "\n",
    "print(script)\n",
    "# Execute the SQL statement\n",
    "mycursor.execute(script)\n",
    "mydb.commit()\n",
    "print(mycursor.rowcount, \"record(s) affected\")"
   ]
  },
  {
   "cell_type": "code",
   "execution_count": null,
   "metadata": {},
   "outputs": [],
   "source": [
    "\n",
    "import mysql.connector\n",
    "\n",
    "mydb = mysql.connector.connect(\n",
    "  host=\"localhost\",\n",
    "  user=\"yourusername\",\n",
    "  password=\"yourpassword\",\n",
    "  database=\"mydatabase\"\n",
    ")\n",
    "\n",
    "mycursor = mydb.cursor()\n",
    "\n",
    "sql = \"UPDATE customers SET address = 'Canyon 123' WHERE address = 'Valley 345'\"\n",
    "       UPDATE index_data SET pk_index_id = '20', index_name = 'Test2' WHERE index_symbol = 'TEST'\n",
    "\n",
    "\n",
    "mycursor.execute(sql)\n",
    "\n",
    "mydb.commit()\n",
    "\n",
    "print(mycursor.rowcount, \"record(s) affected\")"
   ]
  }
 ],
 "metadata": {
  "kernelspec": {
   "display_name": "Python 3",
   "language": "python",
   "name": "python3"
  },
  "language_info": {
   "codemirror_mode": {
    "name": "ipython",
    "version": 3
   },
   "file_extension": ".py",
   "mimetype": "text/x-python",
   "name": "python",
   "nbconvert_exporter": "python",
   "pygments_lexer": "ipython3",
   "version": "3.7.6"
  }
 },
 "nbformat": 4,
 "nbformat_minor": 4
}
