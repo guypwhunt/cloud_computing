{
 "cells": [
  {
   "cell_type": "code",
   "execution_count": 20,
   "metadata": {},
   "outputs": [],
   "source": [
    "import mysql.connector"
   ]
  },
  {
   "cell_type": "code",
   "execution_count": 31,
   "metadata": {},
   "outputs": [
    {
     "name": "stdout",
     "output_type": "stream",
     "text": [
      "(1, 'FTSE 100', 'UKX')\n",
      "(2, 'FTSE 250', 'MCX')\n",
      "(3, 'FTSE 350', 'NMX')\n"
     ]
    }
   ],
   "source": [
    "import mysql.connector\n",
    "\n",
    "mydb = mysql.connector.connect(\n",
    "  host=\"investment.cgwmqkwedlgo.us-east-1.rds.amazonaws.com\",\n",
    "  user=\"Rafayet\",\n",
    "  password=\"Cloud2021\",\n",
    "  database=\"Invest\"\n",
    ")\n",
    "\n",
    "mycursor = mydb.cursor()\n",
    "\n",
    "mycursor.execute(\"select * from index_data\")\n",
    "\n",
    "myresult = mycursor.fetchall()\n",
    "\n",
    "for x in myresult:\n",
    "  print(x)"
   ]
  },
  {
   "cell_type": "code",
   "execution_count": 27,
   "metadata": {},
   "outputs": [
    {
     "ename": "NameError",
     "evalue": "name 'json' is not defined",
     "output_type": "error",
     "traceback": [
      "\u001b[1;31m---------------------------------------------------------------------------\u001b[0m",
      "\u001b[1;31mNameError\u001b[0m                                 Traceback (most recent call last)",
      "\u001b[1;32m<ipython-input-27-71eba0f9c111>\u001b[0m in \u001b[0;36m<module>\u001b[1;34m\u001b[0m\n\u001b[0;32m     14\u001b[0m \u001b[1;33m\u001b[0m\u001b[0m\n\u001b[0;32m     15\u001b[0m \u001b[1;31m# Convert the array into JSON\u001b[0m\u001b[1;33m\u001b[0m\u001b[1;33m\u001b[0m\u001b[1;33m\u001b[0m\u001b[0m\n\u001b[1;32m---> 16\u001b[1;33m \u001b[0mj\u001b[0m \u001b[1;33m=\u001b[0m \u001b[0mjson\u001b[0m\u001b[1;33m.\u001b[0m\u001b[0mdumps\u001b[0m\u001b[1;33m(\u001b[0m\u001b[0mrowarray_list\u001b[0m\u001b[1;33m)\u001b[0m\u001b[1;33m\u001b[0m\u001b[1;33m\u001b[0m\u001b[0m\n\u001b[0m\u001b[0;32m     17\u001b[0m \u001b[1;33m\u001b[0m\u001b[0m\n\u001b[0;32m     18\u001b[0m \u001b[1;31m# Convert JSON to key-value pairs\u001b[0m\u001b[1;33m\u001b[0m\u001b[1;33m\u001b[0m\u001b[1;33m\u001b[0m\u001b[0m\n",
      "\u001b[1;31mNameError\u001b[0m: name 'json' is not defined"
     ]
    }
   ],
   "source": [
    "# Perform the select statement and extract the rows for the index\n",
    "sql_script = 'SELECT * FROM index_data WHERE index_symbol = \\'' + 'MCX' + '\\''\n",
    "\n",
    "mycursor = mydb.cursor()\n",
    "\n",
    "mycursor.execute(sql_script)\n",
    "rows = mycursor.fetchall()\n",
    "\n",
    "# For each row append the relevant data to an array\n",
    "rowarray_list = []\n",
    "for row in rows:\n",
    "        t = (row[0], row[1], row[2])\n",
    "        rowarray_list.append(t)\n",
    "\n",
    "# Convert the array into JSON\n",
    "j = json.dumps(rowarray_list)\n",
    "\n",
    "# Convert JSON to key-value pairs\n",
    "objects_list = []\n",
    "for row in rows:\n",
    "        d = collections.OrderedDict()\n",
    "        d[\"index_id\"] = row[0]\n",
    "        d[\"index_name\"] = row[1]\n",
    "        d[\"index_symbol\"] = row[2]\n",
    "        objects_list.append(d)\n",
    "\n",
    "# Convert key-value pairs to JSON\n",
    "response = json.dumps(objects_list)"
   ]
  },
  {
   "cell_type": "code",
   "execution_count": 30,
   "metadata": {},
   "outputs": [],
   "source": [
    "mycursor = mydb.cursor()\n",
    "        \n",
    "# Define input variables\n",
    "pk_index_id = 11\n",
    "index_name = \"TEST\"\n",
    "index_symbol = \"TEST\"\n",
    "pk_index_id = str(pk_index_id)\n",
    "\n",
    "# Create the appropriate SQL script\n",
    "script = 'INSERT INTO index_data (pk_index_id, index_name, index_symbol) VALUES (\\'' + pk_index_id + '\\', \\'' + index_name + '\\', \\'' + index_symbol + '\\')'\n",
    "\n",
    "\n",
    "# Execute the SQL statement\n",
    "mycursor.execute(script)"
   ]
  },
  {
   "cell_type": "code",
   "execution_count": 35,
   "metadata": {},
   "outputs": [
    {
     "name": "stdout",
     "output_type": "stream",
     "text": [
      "UPDATE index_data SET pk_index_id = '20', index_name = 'Test2' WHERE index_symbol = 'TEST'\n",
      "1 record(s) affected\n"
     ]
    }
   ],
   "source": [
    "mycursor = mydb.cursor()\n",
    "       \n",
    "# Define input variables\n",
    "index_symbol = \"TEST\"\n",
    "pk_index_id = 20\n",
    "index_name = \"Test2\"\n",
    "pk_index_id = str(pk_index_id)\n",
    "\n",
    "# Create the appropriate SQL script\n",
    "script = 'UPDATE index_data SET pk_index_id = \\''+ pk_index_id + '\\', index_name = \\'' + index_name + '\\' WHERE index_symbol = \\'' + index_symbol + '\\''\n",
    "\n",
    "print(script)\n",
    "# Execute the SQL statement\n",
    "mycursor.execute(script)\n",
    "mydb.commit()\n",
    "print(mycursor.rowcount, \"record(s) affected\")"
   ]
  },
  {
   "cell_type": "code",
   "execution_count": null,
   "metadata": {},
   "outputs": [],
   "source": [
    "\n",
    "import mysql.connector\n",
    "\n",
    "mydb = mysql.connector.connect(\n",
    "  host=\"localhost\",\n",
    "  user=\"yourusername\",\n",
    "  password=\"yourpassword\",\n",
    "  database=\"mydatabase\"\n",
    ")\n",
    "\n",
    "mycursor = mydb.cursor()\n",
    "\n",
    "sql = \"UPDATE customers SET address = 'Canyon 123' WHERE address = 'Valley 345'\"\n",
    "       UPDATE index_data SET pk_index_id = '20', index_name = 'Test2' WHERE index_symbol = 'TEST'\n",
    "\n",
    "\n",
    "mycursor.execute(sql)\n",
    "\n",
    "mydb.commit()\n",
    "\n",
    "print(mycursor.rowcount, \"record(s) affected\")"
   ]
  }
 ],
 "metadata": {
  "kernelspec": {
   "display_name": "Python 3",
   "language": "python",
   "name": "python3"
  },
  "language_info": {
   "codemirror_mode": {
    "name": "ipython",
    "version": 3
   },
   "file_extension": ".py",
   "mimetype": "text/x-python",
   "name": "python",
   "nbconvert_exporter": "python",
   "pygments_lexer": "ipython3",
   "version": "3.7.6"
  }
 },
 "nbformat": 4,
 "nbformat_minor": 4
}
