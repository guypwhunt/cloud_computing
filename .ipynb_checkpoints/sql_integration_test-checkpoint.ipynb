{
 "cells": [
  {
   "cell_type": "code",
   "execution_count": 23,
   "metadata": {},
   "outputs": [],
   "source": [
    "import pyodbc \n",
    "import pandas as pd\n",
    "import json\n",
    "import collections"
   ]
  },
  {
   "cell_type": "code",
   "execution_count": 24,
   "metadata": {},
   "outputs": [
    {
     "name": "stdout",
     "output_type": "stream",
     "text": [
      "[{\"index_name\": \"FTSE 100\", \"index_sybol\": \"UKX       \", \"company_name\": \"PERSHING SQUARE HOLDINGS LTD ORD NPV\", \"company_index\": \"PSH       \"}, {\"index_name\": \"FTSE 100\", \"index_sybol\": \"UKX       \", \"company_name\": \"ADMIRAL GROUP PLC ORD 0.1P\", \"company_index\": \"ADM       \"}, {\"index_name\": \"FTSE 100\", \"index_sybol\": \"UKX       \", \"company_name\": \"AVEVA GROUP PLC ORD 3 5/9P\", \"company_index\": \"AVV       \"}, {\"index_name\": \"FTSE 250\", \"index_sybol\": \"MCX       \", \"company_name\": \"RENISHAW PLC ORD 20P\", \"company_index\": \"RSW       \"}, {\"index_name\": \"FTSE 250\", \"index_sybol\": \"MCX       \", \"company_name\": \"HAMMERSON PLC ORD 5P\", \"company_index\": \"HMSO      \"}, {\"index_name\": \"FTSE 250\", \"index_sybol\": \"MCX       \", \"company_name\": \"ROTORK PLC ORD 0.5P\", \"company_index\": \"ROR       \"}]\n"
     ]
    }
   ],
   "source": [
    "conn = pyodbc.connect('Driver={SQL Server};'\n",
    "                      'Server=localhost\\MSSQLSERVER01;'\n",
    "                      'Database=index;'\n",
    "                      'Trusted_Connection=yes;')\n",
    "\n",
    "\n",
    "cursor = conn.cursor()\n",
    "\n",
    "cursor.execute('SELECT * FROM dbo.index_data')\n",
    "rows = cursor.fetchall()\n",
    "\n",
    "rowarray_list = []\n",
    "for row in rows:\n",
    "    t = (row[0], row[1], row[2])\n",
    "    rowarray_list.append(t)\n",
    "    \n",
    "j = json.dumps(rowarray_list)\n",
    "\n",
    "# Convert query to objects of key-value pairs\n",
    "objects_list = []\n",
    "for row in rows:\n",
    "    d = collections.OrderedDict()\n",
    "    d[\"index_name\"] = row[1]\n",
    "    d[\"index_symbol\"] = row[2]\n",
    "    objects_list.append(d)\n",
    "\n",
    "j = json.dumps(objects_list)\n",
    "\n",
    "print(j)\n",
    "\n",
    "conn.close()\n"
   ]
  },
  {
   "cell_type": "code",
   "execution_count": 20,
   "metadata": {},
   "outputs": [
    {
     "name": "stdout",
     "output_type": "stream",
     "text": [
      "FTSE 100\n",
      "FTSE 100\n",
      "FTSE 100\n",
      "FTSE 250\n",
      "FTSE 250\n",
      "FTSE 250\n"
     ]
    }
   ],
   "source": [
    "new_conn = pyodbc.connect('Driver={SQL Server};'\n",
    "                      'Server=localhost\\MSSQLSERVER01;'\n",
    "                      'Database=index;'\n",
    "                      'Trusted_Connection=yes;')\n",
    "\n",
    "\n",
    "new_cursor = new_conn.cursor()\n",
    "\n",
    "#new_cursor.execute('SELECT * FROM dbo.stock_data')\n",
    "sql_query = pd.read_sql_query('SELECT * FROM dbo.stock_data',new_conn)\n",
    "print(sql_query)"
   ]
  },
  {
   "cell_type": "code",
   "execution_count": null,
   "metadata": {},
   "outputs": [],
   "source": []
  }
 ],
 "metadata": {
  "kernelspec": {
   "display_name": "Python 3",
   "language": "python",
   "name": "python3"
  },
  "language_info": {
   "codemirror_mode": {
    "name": "ipython",
    "version": 3
   },
   "file_extension": ".py",
   "mimetype": "text/x-python",
   "name": "python",
   "nbconvert_exporter": "python",
   "pygments_lexer": "ipython3",
   "version": "3.7.6"
  }
 },
 "nbformat": 4,
 "nbformat_minor": 4
}
